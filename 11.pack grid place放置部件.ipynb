{
 "cells": [
  {
   "cell_type": "code",
   "execution_count": 5,
   "metadata": {},
   "outputs": [],
   "source": [
    "import Tkinter as tk\n",
    "\n",
    "window = tk.Tk()\n",
    "window.title('my')\n",
    "window.geometry('200x200')\n",
    "# 1.\n",
    "# tk.Label(window,text=1).pack(side='top')\n",
    "# tk.Label(window,text=1).pack(side='bottom')\n",
    "# tk.Label(window,text=1).pack(side='left')\n",
    "# tk.Label(window,text=1).pack(side='right')\n",
    "\n",
    "#2.\n",
    "# for i in range(4):\n",
    "#     for j in range(3):\n",
    "#         tk.Label(window,text=1).grid(row=i,column=j,\n",
    "#                                     padx=10)\n",
    "\n",
    "#3.\n",
    "tk.Label(window,text=1).place(x=10,y=100,anchor='nw')\n",
    "\n",
    "window.mainloop()"
   ]
  },
  {
   "cell_type": "code",
   "execution_count": null,
   "metadata": {
    "collapsed": true
   },
   "outputs": [],
   "source": []
  }
 ],
 "metadata": {
  "kernelspec": {
   "display_name": "Python 2",
   "language": "python",
   "name": "python2"
  },
  "language_info": {
   "codemirror_mode": {
    "name": "ipython",
    "version": 2
   },
   "file_extension": ".py",
   "mimetype": "text/x-python",
   "name": "python",
   "nbconvert_exporter": "python",
   "pygments_lexer": "ipython2",
   "version": "2.7.11"
  }
 },
 "nbformat": 4,
 "nbformat_minor": 2
}
