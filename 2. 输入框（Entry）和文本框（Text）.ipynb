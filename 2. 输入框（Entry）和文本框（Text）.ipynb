{
 "cells": [
  {
   "cell_type": "code",
   "execution_count": null,
   "metadata": {},
   "outputs": [],
   "source": [
    "import Tkinter as tk\n",
    "\n",
    "window = tk.Tk()\n",
    "window.title('my window')\n",
    "window.geometry('200x200')\n",
    "\n",
    "e = tk.Entry(window,show='*')\n",
    "e.pack()\n",
    "\n",
    "\n",
    "def insert_point():\n",
    "    var = e.get()\n",
    "    t.insert('insert',var)\n",
    "def insert_end():\n",
    "    var = e.get()\n",
    "    t.insert(1.1,var)\n",
    "\n",
    "b1 = tk.Button(window,text='insert point',width=15,height=2,command=insert_point)\n",
    "b1.pack()\n",
    "\n",
    "b2 = tk.Button(window,text='insert end',command\n",
    "              =insert_end)\n",
    "b2.pack()\n",
    "\n",
    "t = tk.Text(window,height=2)\n",
    "t.pack()\n",
    "\n",
    "window.mainloop()"
   ]
  },
  {
   "cell_type": "code",
   "execution_count": null,
   "metadata": {
    "collapsed": true
   },
   "outputs": [],
   "source": []
  }
 ],
 "metadata": {
  "kernelspec": {
   "display_name": "Python 2",
   "language": "python",
   "name": "python2"
  },
  "language_info": {
   "codemirror_mode": {
    "name": "ipython",
    "version": 2
   },
   "file_extension": ".py",
   "mimetype": "text/x-python",
   "name": "python",
   "nbconvert_exporter": "python",
   "pygments_lexer": "ipython2",
   "version": "2.7.11"
  }
 },
 "nbformat": 4,
 "nbformat_minor": 2
}
