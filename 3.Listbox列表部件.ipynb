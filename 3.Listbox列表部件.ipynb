{
 "cells": [
  {
   "cell_type": "code",
   "execution_count": null,
   "metadata": {},
   "outputs": [],
   "source": [
    "import Tkinter as tk\n",
    "\n",
    "window = tk.Tk()\n",
    "window.title('my window')\n",
    "window.geometry('200x200')\n",
    "\n",
    "var1 = tk.StringVar()\n",
    "l = tk.Label(window,bg='yellow',width=4,textvariable=var1)\n",
    "l.pack()\n",
    "def print_selection():\n",
    "    value = lb.get(lb.curselection())\n",
    "    var1.set(value)\n",
    "\n",
    "b1 = tk.Button(window,text='print selection',width=15,height=2,command=print_selection)\n",
    "b1.pack()\n",
    "\n",
    "\n",
    "var2 = tk.StringVar()\n",
    "var2.set((11,22,33,44))\n",
    "\n",
    "lb = tk.Listbox(window,listvariable=var2)\n",
    "list_items = [1,2,3,4]\n",
    "\n",
    "for item in list_items:\n",
    "    lb.insert('end',item)\n",
    "    \n",
    "lb.insert(1,'first')\n",
    "lb.insert(2,'sec')\n",
    "lb.delete(2)\n",
    "lb.pack()\n",
    "window.mainloop()"
   ]
  },
  {
   "cell_type": "code",
   "execution_count": null,
   "metadata": {
    "collapsed": true
   },
   "outputs": [],
   "source": []
  }
 ],
 "metadata": {
  "kernelspec": {
   "display_name": "Python 2",
   "language": "python",
   "name": "python2"
  },
  "language_info": {
   "codemirror_mode": {
    "name": "ipython",
    "version": 2
   },
   "file_extension": ".py",
   "mimetype": "text/x-python",
   "name": "python",
   "nbconvert_exporter": "python",
   "pygments_lexer": "ipython2",
   "version": "2.7.11"
  }
 },
 "nbformat": 4,
 "nbformat_minor": 2
}
