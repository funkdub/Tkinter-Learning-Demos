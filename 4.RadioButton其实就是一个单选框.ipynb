{
 "cells": [
  {
   "cell_type": "code",
   "execution_count": 3,
   "metadata": {
    "collapsed": true
   },
   "outputs": [],
   "source": [
    "import Tkinter as tk\n",
    "\n",
    "window = tk.Tk()\n",
    "window.title('my window')\n",
    "window.geometry('200x200')\n",
    "\n",
    "var = tk.StringVar()\n",
    "l = tk.Label(window,bg='yellow',width=20,text='empty')\n",
    "l.pack()\n",
    "\n",
    "def print_selection():\n",
    "    l.config(text='you have selected ' + var.get())\n",
    "r1 = tk.Radiobutton(window,text='Option A',variable=var,\n",
    "                    value='A',command=print_selection)\n",
    "r1.pack()\n",
    "r2 = tk.Radiobutton(window,text='Option B',variable=var,\n",
    "                    value='B',command=print_selection)\n",
    "r2.pack()\n",
    "r3 = tk.Radiobutton(window,text='Option C',variable=var,\n",
    "                    value='C',command=print_selection)\n",
    "r3.pack()\n",
    "window.mainloop()"
   ]
  },
  {
   "cell_type": "code",
   "execution_count": null,
   "metadata": {
    "collapsed": true
   },
   "outputs": [],
   "source": []
  }
 ],
 "metadata": {
  "kernelspec": {
   "display_name": "Python 2",
   "language": "python",
   "name": "python2"
  },
  "language_info": {
   "codemirror_mode": {
    "name": "ipython",
    "version": 2
   },
   "file_extension": ".py",
   "mimetype": "text/x-python",
   "name": "python",
   "nbconvert_exporter": "python",
   "pygments_lexer": "ipython2",
   "version": "2.7.11"
  }
 },
 "nbformat": 4,
 "nbformat_minor": 2
}
