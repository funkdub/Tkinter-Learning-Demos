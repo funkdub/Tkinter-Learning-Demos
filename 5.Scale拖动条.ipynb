{
 "cells": [
  {
   "cell_type": "code",
   "execution_count": null,
   "metadata": {
    "collapsed": true
   },
   "outputs": [],
   "source": [
    "import Tkinter as tk\n",
    "\n",
    "window = tk.Tk()\n",
    "window.title('my window')\n",
    "window.geometry('200x200')\n",
    "\n",
    "l = tk.Label(window,bg='yellow',width=20,text='empty')\n",
    "l.pack()\n",
    "# 传入值\n",
    "def print_selection(v):\n",
    "    l.config(text='you have selected ' + var.get())\n",
    "\n",
    "s = tk.Scale(window,label='try me',\\\n",
    "            from=5,to=11,\n",
    "            orient=tk.HORIZONTAL,\n",
    "            length=200,showvalue=0,\n",
    "            tickinterval=3,\n",
    "            resolution=0.01,\n",
    "            command=print_selection)\n",
    "window.mainloop()"
   ]
  }
 ],
 "metadata": {
  "kernelspec": {
   "display_name": "Python 2",
   "language": "python",
   "name": "python2"
  },
  "language_info": {
   "codemirror_mode": {
    "name": "ipython",
    "version": 2
   },
   "file_extension": ".py",
   "mimetype": "text/x-python",
   "name": "python",
   "nbconvert_exporter": "python",
   "pygments_lexer": "ipython2",
   "version": "2.7.11"
  }
 },
 "nbformat": 4,
 "nbformat_minor": 2
}
