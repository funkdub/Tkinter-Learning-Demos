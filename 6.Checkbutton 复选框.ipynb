{
 "cells": [
  {
   "cell_type": "code",
   "execution_count": 2,
   "metadata": {},
   "outputs": [],
   "source": [
    "import Tkinter as tk\n",
    "\n",
    "window = tk.Tk()\n",
    "window.title('my window')\n",
    "window.geometry('200x200')\n",
    "\n",
    "l = tk.Label(window,bg='yellow',width=20,text='empty')\n",
    "l.pack()\n",
    "# 传入值\n",
    "def print_selection():\n",
    "    if(var1.get()==1)&(var2.get()==0):\n",
    "        l.config(text='I fucked only Python!')\n",
    "    elif(var1.get()==0) & (var2.get()==1):\n",
    "        l.config(text='I fucked only C++!')\n",
    "    elif(var1.get()==0) & (var2.get()==0):\n",
    "        l.config(text='I fucked nothing!')\n",
    "    else:\n",
    "        l.config(text='I fucked both!')\n",
    "\n",
    "var1 = tk.IntVar()\n",
    "var2 = tk.IntVar()\n",
    "\n",
    "c1 = tk.Checkbutton(window,text='Python',\n",
    "                    variable=var1,\n",
    "                   onvalue=1,\n",
    "                   offvalue=0,\n",
    "                   command=print_selection)\n",
    "c2 = tk.Checkbutton(window,text='C++',\n",
    "                    variable=var2,\n",
    "                   onvalue=1,\n",
    "                   offvalue=0,\n",
    "                   command=print_selection)\n",
    "c1.pack()\n",
    "c2.pack()\n",
    "window.mainloop()"
   ]
  },
  {
   "cell_type": "code",
   "execution_count": null,
   "metadata": {
    "collapsed": true
   },
   "outputs": [],
   "source": []
  }
 ],
 "metadata": {
  "kernelspec": {
   "display_name": "Python 2",
   "language": "python",
   "name": "python2"
  },
  "language_info": {
   "codemirror_mode": {
    "name": "ipython",
    "version": 2
   },
   "file_extension": ".py",
   "mimetype": "text/x-python",
   "name": "python",
   "nbconvert_exporter": "python",
   "pygments_lexer": "ipython2",
   "version": "2.7.11"
  }
 },
 "nbformat": 4,
 "nbformat_minor": 2
}
