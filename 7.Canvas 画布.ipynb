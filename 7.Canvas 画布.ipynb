{
 "cells": [
  {
   "cell_type": "code",
   "execution_count": 9,
   "metadata": {},
   "outputs": [],
   "source": [
    "import Tkinter as tk\n",
    "\n",
    "window = tk.Tk()\n",
    "window.title('my window')\n",
    "window.geometry('400x400')\n",
    "\n",
    "canvas = tk.Canvas(window,bg='blue',height=200,width=300)\n",
    "# image_file = tk.PhotoImage(file='ahahaha.gif')\n",
    "# image = canvas.create_image(1,1,anchor='center',image=image_file)\n",
    "x0,y0,x1,y1 = 50,50,100,100\n",
    "line = canvas.create_line(x0,y0,x1,y1)\n",
    "oval = canvas.create_oval(x0,y0,x1,y1,fill='red')\n",
    "arc = canvas.create_arc(x0+30,y0+30,x1+30,y1+30,start=0,extent=180)\n",
    "canvas.pack()\n",
    "\n",
    "def moveit():\n",
    "    canvas.move(oval,0,2)\n",
    "\n",
    "b = tk.Button(window,text='fuck down!',\n",
    "             command=moveit).pack()\n",
    "window.mainloop()"
   ]
  },
  {
   "cell_type": "markdown",
   "metadata": {},
   "source": [
    "## "
   ]
  }
 ],
 "metadata": {
  "kernelspec": {
   "display_name": "Python 2",
   "language": "python",
   "name": "python2"
  },
  "language_info": {
   "codemirror_mode": {
    "name": "ipython",
    "version": 2
   },
   "file_extension": ".py",
   "mimetype": "text/x-python",
   "name": "python",
   "nbconvert_exporter": "python",
   "pygments_lexer": "ipython2",
   "version": "2.7.11"
  }
 },
 "nbformat": 4,
 "nbformat_minor": 2
}
