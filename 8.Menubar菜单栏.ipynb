{
 "cells": [
  {
   "cell_type": "code",
   "execution_count": 2,
   "metadata": {
    "collapsed": true
   },
   "outputs": [],
   "source": [
    "import Tkinter as tk\n",
    "\n",
    "window = tk.Tk()\n",
    "window.title('my new window for menubar!')\n",
    "window.geometry('200x200')\n",
    "\n",
    "l = tk.Label(window,text='',bg='yellow')\n",
    "l.pack()\n",
    "\n",
    "count = 0\n",
    "def do_job():\n",
    "    global count\n",
    "    l.config(text='do'+str(count))\n",
    "    count+=1\n",
    "    \n",
    "\n",
    "menubar = tk.Menu(window)\n",
    "filemenu = tk.Menu(menubar,tearoff=0)\n",
    "menubar.add_cascade(label='File',menu=filemenu)\n",
    "filemenu.add_command(label='New',command=do_job)\n",
    "filemenu.add_command(label='Open',command=do_job)\n",
    "filemenu.add_command(label='Save',command=do_job)\n",
    "filemenu.add_separator()\n",
    "filemenu.add_command(label='Exit',command=window.quit)\n",
    "# submenu可以添加子栏\n",
    "window.config(menu=menubar)\n",
    "window.mainloop()"
   ]
  },
  {
   "cell_type": "code",
   "execution_count": null,
   "metadata": {
    "collapsed": true
   },
   "outputs": [],
   "source": []
  }
 ],
 "metadata": {
  "kernelspec": {
   "display_name": "Python 2",
   "language": "python",
   "name": "python2"
  },
  "language_info": {
   "codemirror_mode": {
    "name": "ipython",
    "version": 2
   },
   "file_extension": ".py",
   "mimetype": "text/x-python",
   "name": "python",
   "nbconvert_exporter": "python",
   "pygments_lexer": "ipython2",
   "version": "2.7.11"
  }
 },
 "nbformat": 4,
 "nbformat_minor": 2
}
